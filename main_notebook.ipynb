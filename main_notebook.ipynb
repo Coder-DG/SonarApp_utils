{
 "cells": [
  {
   "cell_type": "code",
   "execution_count": 29,
   "metadata": {},
   "outputs": [],
   "source": [
    "%load_ext autoreload\n",
    "%autoreload 2"
   ]
  },
  {
   "cell_type": "code",
   "execution_count": 17,
   "metadata": {
    "pycharm": {
     "is_executing": false
    }
   },
   "outputs": [
    {
     "name": "stdout",
     "output_type": "stream",
     "text": [
      "Got 20 samples for 5.0m.\n",
      "Peaks prediction: 4.690328846412646\n",
      "Peaks prediction: 4.611445425682953\n",
      "Peaks prediction: 4.577580556835419\n",
      "Peaks prediction: 4.59257344469374\n",
      "Peaks prediction: 4.581258595784242\n",
      "Peaks prediction: 4.584976654684842\n",
      "Peaks prediction: 4.577500385287291\n",
      "Peaks prediction: 4.577460299513227\n",
      "Peaks prediction: 4.566145779715175\n",
      "Peaks prediction: 4.573742174790339\n",
      "Peaks prediction: 4.58133883315466\n",
      "Peaks prediction: 4.686775771079685\n",
      "Peaks prediction: 4.596251187442263\n",
      "Peaks prediction: 4.672028367448576\n",
      "Peaks prediction: 4.577340042191035\n",
      "Peaks prediction: 4.574783549475445\n",
      "Peaks prediction: 4.562867084594343\n",
      "Peaks prediction: 4.597096444618213\n",
      "Peaks prediction: 4.570104024148712\n",
      "Peaks prediction: 4.596331688101837\n",
      "Avg peaks prediction: 4.597396457782732m\n"
     ]
    }
   ],
   "source": [
    "%matplotlib inline\n",
    "\n",
    "import os\n",
    "import json\n",
    "import analysis\n",
    "import numpy as np\n",
    "\n",
    "DISTANCE = '5.0'\n",
    "LOCATION = 'alley'\n",
    "separator = ''.join(['x']*50)\n",
    "\n",
    "all_files = os.listdir(analysis.SAMPLES_DIR)\n",
    "# print(\"Total amount of samples: {0}\".format(len(all_files)))\n",
    "filenames = [f_name for f_name in all_files \n",
    "             if DISTANCE in f_name and LOCATION in f_name]\n",
    "filenames = sorted(filenames)\n",
    "print(\"Got {0} samples for {1}m.\".format(len(filenames), DISTANCE))\n",
    "peaks_predictions = []\n",
    "mlp_predictions = []\n",
    "for filename in filenames:\n",
    "    with open(os.path.join(analysis.SAMPLES_DIR, filename), 'r') as f:\n",
    "#         print(separator)\n",
    "        sample = json.load(f)\n",
    "        recording_name = '{0}.{1}.{2}'.format(\n",
    "            sample['location'], sample['real_distance'], sample['cycle'])\n",
    "#         analysis.get_graph_figure(analysis.trim(sample['recording']), 'Recording of '\n",
    "#                                   '{0}'.format(recording_name))\n",
    "#         analysis.get_graph_figure(sample['cc'], 'CC of '\n",
    "#                                   '{0}'.format(recording_name))\n",
    "        peaks_prediction = sample['peaks_prediction']\n",
    "        mlp_prediction = sample['mlp_prediction']\n",
    "        print(\"Peaks prediction: {0}\".format(peaks_prediction))\n",
    "#         print(\"MLP prediction: {0}\".format(mlp_prediction))\n",
    "        if peaks_prediction > 0:\n",
    "            peaks_predictions.append(peaks_prediction)\n",
    "        if mlp_prediction > 0:\n",
    "            mlp_predictions.append(mlp_prediction)\n",
    "print(\"Avg peaks prediction: {}m\".format(np.mean(peaks_predictions)))\n",
    "# print(\"Avg mlp prediction: {}m\".format(np.mean(mlp_predictions)))"
   ]
  }
 ],
 "metadata": {
  "kernelspec": {
   "display_name": "Python 3",
   "language": "python",
   "name": "python3"
  },
  "language_info": {
   "codemirror_mode": {
    "name": "ipython",
    "version": 3
   },
   "file_extension": ".py",
   "mimetype": "text/x-python",
   "name": "python",
   "nbconvert_exporter": "python",
   "pygments_lexer": "ipython3",
   "version": "3.7.3"
  },
  "pycharm": {
   "stem_cell": {
    "cell_type": "raw",
    "metadata": {
     "collapsed": false
    },
    "source": []
   }
  }
 },
 "nbformat": 4,
 "nbformat_minor": 4
}
