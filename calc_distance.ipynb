{
 "cells": [
  {
   "cell_type": "code",
   "execution_count": 23,
   "metadata": {},
   "outputs": [
    {
     "name": "stdout",
     "output_type": "stream",
     "text": [
      "726.0\n",
      "Roundtrip: 6.2738140589569165\n",
      "One way: 3.1369070294784582\n"
     ]
    }
   ],
   "source": [
    "import numpy as np\n",
    "import analysis\n",
    "\n",
    "TEMP = 24\n",
    "# m/s\n",
    "SOUND_SPEED = 331.3 + 0.606 * TEMP\n",
    "\n",
    "def distance_to_frames(distance):\n",
    "    time_to_travel = distance / SOUND_SPEED\n",
    "    return np.ceil(analysis.SAMPLE_RATE * time_to_travel)\n",
    "\n",
    "def frames_to_distance(frames):\n",
    "    time_traveled = frames / analysis.SAMPLE_RATE\n",
    "    return time_traveled * SOUND_SPEED\n",
    "\n",
    "frames = 800\n",
    "one_way_distance = 2.8448\n",
    "print(distance_to_frames(one_way_distance * 2))\n",
    "print('Roundtrip: {0}'.format(frames_to_distance(frames)))\n",
    "print('One way: {0}'.format(frames_to_distance(frames)/2.0))"
   ]
  }
 ],
 "metadata": {
  "kernelspec": {
   "display_name": "Python 3",
   "language": "python",
   "name": "python3"
  },
  "language_info": {
   "codemirror_mode": {
    "name": "ipython",
    "version": 3
   },
   "file_extension": ".py",
   "mimetype": "text/x-python",
   "name": "python",
   "nbconvert_exporter": "python",
   "pygments_lexer": "ipython3",
   "version": "3.7.3"
  }
 },
 "nbformat": 4,
 "nbformat_minor": 4
}
