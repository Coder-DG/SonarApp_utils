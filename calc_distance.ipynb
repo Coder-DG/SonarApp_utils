{
 "cells": [
  {
   "cell_type": "code",
   "execution_count": 4,
   "metadata": {},
   "outputs": [
    {
     "name": "stdout",
     "output_type": "stream",
     "text": [
      "91.0\n",
      "2.238785306122449\n"
     ]
    }
   ],
   "source": [
    "import numpy as np\n",
    "import analysis\n",
    "\n",
    "TEMP = 19\n",
    "# m/s\n",
    "SOUND_SPEED = 331.3 + 0.606 * TEMP\n",
    "\n",
    "def distance_to_frames(distance):\n",
    "    time_to_travel = distance / SOUND_SPEED\n",
    "    return np.ceil(analysis.SAMPLE_RATE * time_to_travel)\n",
    "\n",
    "def frames_to_distance(frames):\n",
    "    time_traveled = frames / analysis.SAMPLE_RATE\n",
    "    return time_traveled * SOUND_SPEED\n",
    "\n",
    "print(distance_to_frames(0.35 * 2))\n",
    "print(frames_to_distance(509-221))"
   ]
  }
 ],
 "metadata": {
  "kernelspec": {
   "display_name": "Python 3",
   "language": "python",
   "name": "python3"
  },
  "language_info": {
   "codemirror_mode": {
    "name": "ipython",
    "version": 3
   },
   "file_extension": ".py",
   "mimetype": "text/x-python",
   "name": "python",
   "nbconvert_exporter": "python",
   "pygments_lexer": "ipython3",
   "version": "3.7.3"
  }
 },
 "nbformat": 4,
 "nbformat_minor": 4
}
